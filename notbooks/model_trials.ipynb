{
 "cells": [
  {
   "cell_type": "code",
   "execution_count": 1,
   "metadata": {},
   "outputs": [],
   "source": [
    "import dask.dataframe as dd\n",
    "import pandas as pd\n",
    "from autots import AutoTS"
   ]
  },
  {
   "cell_type": "code",
   "execution_count": 2,
   "metadata": {},
   "outputs": [],
   "source": [
    "model = AutoTS(\n",
    "    forecast_length=15,\n",
    "    frequency='D',\n",
    "    prediction_interval=0.95,\n",
    "    ensemble=None,\n",
    "    models_mode='deep',\n",
    "    model_list = 'univariate',# or ['ARIMA','ETS']\n",
    "    max_generations=10,\n",
    "    num_validations=3,\n",
    "    no_negatives=True,\n",
    "    n_jobs=-1)"
   ]
  },
  {
   "cell_type": "code",
   "execution_count": 3,
   "metadata": {},
   "outputs": [
    {
     "name": "stderr",
     "output_type": "stream",
     "text": [
      "/Users/canahmetozguven/.conda/envs/arabam_crawler/lib/python3.9/site-packages/autots/evaluator/auto_model.py:939: FutureWarning: iteritems is deprecated and will be removed in a future version. Use .items instead.\n",
      "  for index, value in models_to_iterate.iteritems():\n"
     ]
    },
    {
     "data": {
      "text/plain": [
       "Uninitiated AutoTS object"
      ]
     },
     "execution_count": 3,
     "metadata": {},
     "output_type": "execute_result"
    }
   ],
   "source": [
    "model.import_template('model.csv')"
   ]
  }
 ],
 "metadata": {
  "kernelspec": {
   "display_name": "arabam_crawler",
   "language": "python",
   "name": "python3"
  },
  "language_info": {
   "codemirror_mode": {
    "name": "ipython",
    "version": 3
   },
   "file_extension": ".py",
   "mimetype": "text/x-python",
   "name": "python",
   "nbconvert_exporter": "python",
   "pygments_lexer": "ipython3",
   "version": "3.9.15"
  },
  "orig_nbformat": 4,
  "vscode": {
   "interpreter": {
    "hash": "f1264dc56ebb3028fbd9a830a6c6abe4b4b5debc37e0933707417ff4b7c99c7b"
   }
  }
 },
 "nbformat": 4,
 "nbformat_minor": 2
}
